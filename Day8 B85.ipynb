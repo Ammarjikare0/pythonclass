{
 "cells": [
  {
   "cell_type": "code",
   "execution_count": null,
   "id": "e42c7746",
   "metadata": {},
   "outputs": [],
   "source": [
    "Introduction to dictiotionary"
   ]
  },
  {
   "cell_type": "code",
   "execution_count": null,
   "id": "d83b5079",
   "metadata": {},
   "outputs": [],
   "source": [
    "defi: combination of key value pair define {}"
   ]
  },
  {
   "cell_type": "code",
   "execution_count": 2,
   "id": "72471918",
   "metadata": {},
   "outputs": [
    {
     "name": "stdout",
     "output_type": "stream",
     "text": [
      "{'color': 'purple', 'points': '5'}\n"
     ]
    }
   ],
   "source": [
    "alien={'color':'purple','points':'5'}\n",
    "print(alien)"
   ]
  },
  {
   "cell_type": "code",
   "execution_count": 3,
   "id": "76b4452e",
   "metadata": {},
   "outputs": [
    {
     "data": {
      "text/plain": [
       "dict"
      ]
     },
     "execution_count": 3,
     "metadata": {},
     "output_type": "execute_result"
    }
   ],
   "source": [
    "type(alien)"
   ]
  },
  {
   "cell_type": "code",
   "execution_count": 4,
   "id": "f74778b2",
   "metadata": {
    "scrolled": true
   },
   "outputs": [
    {
     "name": "stdout",
     "output_type": "stream",
     "text": [
      "{'color': 'purple', 'points': '5', 'changecolor': 'blue'}\n"
     ]
    }
   ],
   "source": [
    "#add new pair\n",
    "alien['changecolor']='blue'\n",
    "print(alien)"
   ]
  },
  {
   "cell_type": "code",
   "execution_count": 6,
   "id": "d69afbc5",
   "metadata": {},
   "outputs": [
    {
     "name": "stdout",
     "output_type": "stream",
     "text": [
      "{'color': 'yellow', 'points': '5', 'changecolor': 'blue'}\n"
     ]
    }
   ],
   "source": [
    "#modify the value\n",
    "alien['color']='yellow'\n",
    "print(alien)"
   ]
  },
  {
   "cell_type": "code",
   "execution_count": 7,
   "id": "64971796",
   "metadata": {},
   "outputs": [
    {
     "name": "stdout",
     "output_type": "stream",
     "text": [
      "{'color': 'yellow', 'points': '5'}\n"
     ]
    }
   ],
   "source": [
    "del alien['changecolor']\n",
    "print(alien)"
   ]
  },
  {
   "cell_type": "code",
   "execution_count": 16,
   "id": "cb83fc57",
   "metadata": {
    "scrolled": true
   },
   "outputs": [
    {
     "name": "stdout",
     "output_type": "stream",
     "text": [
      "color yellow\n",
      "points 5\n"
     ]
    }
   ],
   "source": [
    "for k,v in alien.items():   #for loop dic\n",
    "    print(k,v)"
   ]
  },
  {
   "cell_type": "code",
   "execution_count": 18,
   "id": "eef195bc",
   "metadata": {},
   "outputs": [
    {
     "name": "stdout",
     "output_type": "stream",
     "text": [
      "key : color\n",
      "value : yellow\n",
      "\n",
      "key : points\n",
      "value : 5\n",
      "\n"
     ]
    }
   ],
   "source": [
    "#enhancement of code\n",
    "for k,v in alien.items():\n",
    "    print(f\"key : {k}\")\n",
    "    print(f\"value : {v}\\n\")"
   ]
  },
  {
   "cell_type": "code",
   "execution_count": 19,
   "id": "d5a858a8",
   "metadata": {},
   "outputs": [
    {
     "name": "stdout",
     "output_type": "stream",
     "text": [
      "key : color\n",
      "key : points\n"
     ]
    }
   ],
   "source": [
    "#if we want only key\n",
    "for k,v in alien.items():\n",
    "    print(f\"key : {k}\")"
   ]
  },
  {
   "cell_type": "code",
   "execution_count": 21,
   "id": "25710cbb",
   "metadata": {},
   "outputs": [
    {
     "name": "stdout",
     "output_type": "stream",
     "text": [
      "value : yellow\n",
      "value : 5\n"
     ]
    }
   ],
   "source": [
    "for k,v in alien.items():\n",
    "    print(f\"value : {v}\")"
   ]
  },
  {
   "cell_type": "code",
   "execution_count": null,
   "id": "3facbca3",
   "metadata": {},
   "outputs": [],
   "source": []
  }
 ],
 "metadata": {
  "kernelspec": {
   "display_name": "Python 3 (ipykernel)",
   "language": "python",
   "name": "python3"
  },
  "language_info": {
   "codemirror_mode": {
    "name": "ipython",
    "version": 3
   },
   "file_extension": ".py",
   "mimetype": "text/x-python",
   "name": "python",
   "nbconvert_exporter": "python",
   "pygments_lexer": "ipython3",
   "version": "3.11.5"
  }
 },
 "nbformat": 4,
 "nbformat_minor": 5
}
