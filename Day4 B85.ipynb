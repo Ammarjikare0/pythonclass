{
 "cells": [
  {
   "cell_type": "code",
   "execution_count": null,
   "id": "26ab3ff1",
   "metadata": {},
   "outputs": [],
   "source": [
    "Inroduction to list data type"
   ]
  },
  {
   "cell_type": "code",
   "execution_count": 6,
   "id": "5bec33b1",
   "metadata": {},
   "outputs": [
    {
     "name": "stdout",
     "output_type": "stream",
     "text": [
      "['Ammar', 'affan', 'Atif', 'Saad']\n"
     ]
    }
   ],
   "source": [
    "students = ['Ammar','affan','Atif','Saad']\n",
    "print(students)"
   ]
  },
  {
   "cell_type": "code",
   "execution_count": 7,
   "id": "c4c3ea2d",
   "metadata": {},
   "outputs": [
    {
     "name": "stdout",
     "output_type": "stream",
     "text": [
      "affan\n"
     ]
    }
   ],
   "source": [
    "print(students[1])"
   ]
  },
  {
   "cell_type": "code",
   "execution_count": 8,
   "id": "73a802e0",
   "metadata": {},
   "outputs": [
    {
     "name": "stdout",
     "output_type": "stream",
     "text": [
      "Affan\n"
     ]
    }
   ],
   "source": [
    "print(students[1].title()) #capital first word"
   ]
  },
  {
   "cell_type": "code",
   "execution_count": 9,
   "id": "b6e9c19c",
   "metadata": {},
   "outputs": [
    {
     "name": "stdout",
     "output_type": "stream",
     "text": [
      "['Ammar', 'affan', 'Atif', 'Saad', 'Huzefa']\n"
     ]
    }
   ],
   "source": [
    "students.append('Huzefa') #add a name\n",
    "print(students)"
   ]
  },
  {
   "cell_type": "code",
   "execution_count": 11,
   "id": "670c1732",
   "metadata": {},
   "outputs": [
    {
     "name": "stdout",
     "output_type": "stream",
     "text": [
      "['Ammar', 'affan', 'Amaan', 'Atif', 'Saad', 'Huzefa']\n"
     ]
    }
   ],
   "source": [
    "students.insert(2,'Amaan') #Add name at a position\n",
    "print(students)"
   ]
  },
  {
   "cell_type": "code",
   "execution_count": 13,
   "id": "e954548d",
   "metadata": {},
   "outputs": [
    {
     "name": "stdout",
     "output_type": "stream",
     "text": [
      "['Ammar', 'Adnan', 'Amaan', 'Atif', 'Saad', 'Huzefa']\n"
     ]
    }
   ],
   "source": [
    "students[1]='Adnan' #change name\n",
    "print(students)"
   ]
  },
  {
   "cell_type": "code",
   "execution_count": 14,
   "id": "91611d04",
   "metadata": {},
   "outputs": [
    {
     "name": "stdout",
     "output_type": "stream",
     "text": [
      "['Ammar', 'Amaan', 'Atif', 'Saad', 'Huzefa']\n"
     ]
    }
   ],
   "source": [
    "del students[1] #delete name\n",
    "print(students)"
   ]
  },
  {
   "cell_type": "code",
   "execution_count": null,
   "id": "18b8f80e",
   "metadata": {},
   "outputs": [],
   "source": []
  }
 ],
 "metadata": {
  "kernelspec": {
   "display_name": "Python 3 (ipykernel)",
   "language": "python",
   "name": "python3"
  },
  "language_info": {
   "codemirror_mode": {
    "name": "ipython",
    "version": 3
   },
   "file_extension": ".py",
   "mimetype": "text/x-python",
   "name": "python",
   "nbconvert_exporter": "python",
   "pygments_lexer": "ipython3",
   "version": "3.11.5"
  }
 },
 "nbformat": 4,
 "nbformat_minor": 5
}
